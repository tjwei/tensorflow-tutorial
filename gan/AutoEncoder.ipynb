{
 "cells": [
  {
   "cell_type": "markdown",
   "metadata": {
    "colab_type": "text",
    "id": "view-in-github"
   },
   "source": [
    "[View in Colaboratory](https://colab.research.google.com/github/tjwei/tensorflow-tutorial/blob/master/gan/AutoEncoder.ipynb)"
   ]
  },
  {
   "cell_type": "code",
   "execution_count": 0,
   "metadata": {
    "colab": {},
    "colab_type": "code",
    "id": "-dCjQjjtl7hT"
   },
   "outputs": [],
   "source": [
    "import keras\n",
    "from PIL import Image\n",
    "import numpy as np"
   ]
  },
  {
   "cell_type": "code",
   "execution_count": 0,
   "metadata": {
    "colab": {},
    "colab_type": "code",
    "id": "yd_vBlv2mSj4"
   },
   "outputs": [],
   "source": [
    "from keras.datasets import mnist\n",
    "(train_X, train_y), (test_X, test_y) = mnist.load_data()"
   ]
  },
  {
   "cell_type": "code",
   "execution_count": 0,
   "metadata": {
    "colab": {},
    "colab_type": "code",
    "id": "jDKw_KXymiDZ"
   },
   "outputs": [],
   "source": [
    "train_X.shape"
   ]
  },
  {
   "cell_type": "code",
   "execution_count": 0,
   "metadata": {
    "colab": {},
    "colab_type": "code",
    "id": "SrjSQnzxml8v"
   },
   "outputs": [],
   "source": [
    "train_X.dtype"
   ]
  },
  {
   "cell_type": "code",
   "execution_count": 0,
   "metadata": {
    "colab": {},
    "colab_type": "code",
    "id": "jXHf8f5hmoUr"
   },
   "outputs": [],
   "source": [
    "Image.fromarray(train_X[1])"
   ]
  },
  {
   "cell_type": "code",
   "execution_count": 0,
   "metadata": {
    "colab": {},
    "colab_type": "code",
    "id": "fk6tMBlJnbzt"
   },
   "outputs": [],
   "source": [
    "train_X = (train_X[..., None]-127.5)/128"
   ]
  },
  {
   "cell_type": "code",
   "execution_count": 0,
   "metadata": {
    "colab": {},
    "colab_type": "code",
    "id": "_g1vGwZOpRXi"
   },
   "outputs": [],
   "source": [
    "train_X.shape"
   ]
  },
  {
   "cell_type": "code",
   "execution_count": 0,
   "metadata": {
    "colab": {},
    "colab_type": "code",
    "id": "CTxiSDxvmz9M"
   },
   "outputs": [],
   "source": [
    "from IPython.display import display\n",
    "def showX(X, rows=1):\n",
    "    assert X.shape[0] % rows == 0\n",
    "    int_X = (X*128+128).clip(0,255).astype('uint8')\n",
    "    # N*784 -> N*28*28 -> 28*N*28 -> 28 * 28N\n",
    "    int_X_reshape = int_X.reshape(rows, -1,28,28).swapaxes(1,2).reshape(28*rows,-1)\n",
    "    display(Image.fromarray(int_X_reshape))\n",
    "# 訓練資料， X 的前 20 筆\n",
    "showX(train_X[:10])\n",
    "print(train_y)"
   ]
  },
  {
   "cell_type": "code",
   "execution_count": 0,
   "metadata": {
    "colab": {},
    "colab_type": "code",
    "id": "fnciP38syalM"
   },
   "outputs": [],
   "source": [
    "NZ = 8"
   ]
  },
  {
   "cell_type": "code",
   "execution_count": 0,
   "metadata": {
    "colab": {},
    "colab_type": "code",
    "id": "uX3Zqg36nWvt"
   },
   "outputs": [],
   "source": [
    "from keras.models import Sequential\n",
    "from keras.layers import Conv2D, Activation, GlobalAveragePooling2D\n",
    "\n",
    "netE = Sequential([\n",
    "    Conv2D(filters=32, kernel_size=3, strides=2, padding='same', activation='relu', input_shape=(28,28,1)),\n",
    "    Conv2D(filters=32, kernel_size=3, strides=2, padding='same', activation='relu'),\n",
    "    Conv2D(filters=NZ, kernel_size=3, strides=2, padding='valid'),\n",
    "    GlobalAveragePooling2D(),\n",
    "    Activation('tanh')\n",
    "    \n",
    "])"
   ]
  },
  {
   "cell_type": "code",
   "execution_count": 0,
   "metadata": {
    "colab": {},
    "colab_type": "code",
    "id": "mdRxhU0wpj9q"
   },
   "outputs": [],
   "source": [
    "netE.summary()"
   ]
  },
  {
   "cell_type": "code",
   "execution_count": 0,
   "metadata": {
    "colab": {},
    "colab_type": "code",
    "id": "xYoktxlbp_cj"
   },
   "outputs": [],
   "source": [
    "from keras.layers import Conv2DTranspose, Reshape\n",
    "netG = Sequential([\n",
    "    Reshape( (1,1,NZ), input_shape=(NZ,)),\n",
    "    Conv2DTranspose(filters=32, kernel_size=3, strides=2, padding='valid', activation='relu'),\n",
    "    Conv2DTranspose(filters=32, kernel_size=3, strides=2, padding='valid', activation='relu'),\n",
    "    Conv2DTranspose(filters=32, kernel_size=3, strides=2, padding='same', activation='relu'),\n",
    "    Conv2DTranspose(filters=1, kernel_size=3, strides=2, padding='same')\n",
    "    \n",
    "])"
   ]
  },
  {
   "cell_type": "code",
   "execution_count": 0,
   "metadata": {
    "colab": {},
    "colab_type": "code",
    "id": "76exHCVErjlK"
   },
   "outputs": [],
   "source": [
    "netG.summary()"
   ]
  },
  {
   "cell_type": "code",
   "execution_count": 0,
   "metadata": {
    "colab": {},
    "colab_type": "code",
    "id": "IkctGI_YrsgL"
   },
   "outputs": [],
   "source": [
    "from keras.models import Model\n",
    "EG_output = netG(netE.outputs)\n",
    "netEG = Model(inputs=netE.inputs, outputs=[EG_output])"
   ]
  },
  {
   "cell_type": "code",
   "execution_count": 0,
   "metadata": {
    "colab": {},
    "colab_type": "code",
    "id": "O94CnTYbr85u"
   },
   "outputs": [],
   "source": [
    "netEG.summary()"
   ]
  },
  {
   "cell_type": "code",
   "execution_count": 0,
   "metadata": {
    "colab": {},
    "colab_type": "code",
    "id": "iEpRqBoCsbly"
   },
   "outputs": [],
   "source": [
    "import numpy as np\n",
    "showX(netG.predict(np.random.normal( size=(10, NZ))))"
   ]
  },
  {
   "cell_type": "code",
   "execution_count": 0,
   "metadata": {
    "colab": {},
    "colab_type": "code",
    "id": "RjyTCa04tA72"
   },
   "outputs": [],
   "source": [
    "netEG.compile(loss='mse', optimizer='adam')"
   ]
  },
  {
   "cell_type": "code",
   "execution_count": 0,
   "metadata": {
    "colab": {},
    "colab_type": "code",
    "id": "X2xixfbYtIye"
   },
   "outputs": [],
   "source": [
    "netEG.fit(train_X, train_X, epochs=1)"
   ]
  },
  {
   "cell_type": "code",
   "execution_count": 0,
   "metadata": {
    "colab": {},
    "colab_type": "code",
    "id": "V98xbwAota4F"
   },
   "outputs": [],
   "source": [
    "showX(netG.predict(np.random.normal(size=(100, NZ))), 10)"
   ]
  },
  {
   "cell_type": "code",
   "execution_count": 0,
   "metadata": {
    "colab": {},
    "colab_type": "code",
    "id": "Nzhu7MnLtdHX"
   },
   "outputs": [],
   "source": [
    "showX(netEG.predict(train_X[:100]), 10)"
   ]
  },
  {
   "cell_type": "code",
   "execution_count": 0,
   "metadata": {
    "colab": {},
    "colab_type": "code",
    "id": "B56LXvZmxXuk"
   },
   "outputs": [],
   "source": [
    "codes = netE.predict(train_X[:1000])\n",
    "#codes = netE.predict(train_X[train_y==2])"
   ]
  },
  {
   "cell_type": "code",
   "execution_count": 0,
   "metadata": {
    "colab": {},
    "colab_type": "code",
    "id": "bi2MdxYx0-Qe"
   },
   "outputs": [],
   "source": []
  },
  {
   "cell_type": "code",
   "execution_count": 0,
   "metadata": {
    "colab": {},
    "colab_type": "code",
    "id": "nFZWb0N6xfOg"
   },
   "outputs": [],
   "source": [
    "codes.mean(axis=0)"
   ]
  },
  {
   "cell_type": "code",
   "execution_count": 0,
   "metadata": {
    "colab": {},
    "colab_type": "code",
    "id": "BgMaJPQ8xlIQ"
   },
   "outputs": [],
   "source": [
    "codes.std(axis=0)"
   ]
  },
  {
   "cell_type": "code",
   "execution_count": 0,
   "metadata": {
    "colab": {},
    "colab_type": "code",
    "id": "biMCsL07xrGK"
   },
   "outputs": [],
   "source": [
    "z = np.random.normal(codes.mean(axis=0), scale=codes.std(axis=0), size=(100,NZ))\n",
    "showX(netG.predict(z), 10)\n"
   ]
  }
 ],
 "metadata": {
  "accelerator": "GPU",
  "colab": {
   "collapsed_sections": [],
   "include_colab_link": true,
   "name": "AutoEncoder.ipynb",
   "provenance": [],
   "version": "0.3.2"
  },
  "kernelspec": {
   "display_name": "Python 3",
   "language": "python",
   "name": "python3"
  },
  "language_info": {
   "codemirror_mode": {
    "name": "ipython",
    "version": 3
   },
   "file_extension": ".py",
   "mimetype": "text/x-python",
   "name": "python",
   "nbconvert_exporter": "python",
   "pygments_lexer": "ipython3",
   "version": "3.6.5"
  }
 },
 "nbformat": 4,
 "nbformat_minor": 1
}
