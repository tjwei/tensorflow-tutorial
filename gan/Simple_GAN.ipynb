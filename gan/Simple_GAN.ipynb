{
  "nbformat": 4,
  "nbformat_minor": 0,
  "metadata": {
    "colab": {
      "name": "Simple GAN.ipynb",
      "version": "0.3.2",
      "provenance": [],
      "collapsed_sections": [],
      "include_colab_link": true
    },
    "kernelspec": {
      "name": "python3",
      "display_name": "Python 3"
    },
    "accelerator": "GPU"
  },
  "cells": [
    {
      "cell_type": "markdown",
      "metadata": {
        "id": "view-in-github",
        "colab_type": "text"
      },
      "source": [
        "[View in Colaboratory](https://colab.research.google.com/github/tjwei/tensorflow-tutorial/blob/master/gan/Simple_GAN.ipynb)"
      ]
    },
    {
      "metadata": {
        "id": "-dCjQjjtl7hT",
        "colab_type": "code",
        "colab": {}
      },
      "cell_type": "code",
      "source": [
        "import keras\n",
        "from PIL import Image\n",
        "import numpy as np"
      ],
      "execution_count": 0,
      "outputs": []
    },
    {
      "metadata": {
        "id": "yd_vBlv2mSj4",
        "colab_type": "code",
        "colab": {}
      },
      "cell_type": "code",
      "source": [
        "from keras.datasets import mnist\n",
        "(train_X, train_y), (test_X, test_y) = mnist.load_data()"
      ],
      "execution_count": 0,
      "outputs": []
    },
    {
      "metadata": {
        "id": "fk6tMBlJnbzt",
        "colab_type": "code",
        "colab": {}
      },
      "cell_type": "code",
      "source": [
        "train_X = (train_X[..., None]-127.5)/128"
      ],
      "execution_count": 0,
      "outputs": []
    },
    {
      "metadata": {
        "id": "CTxiSDxvmz9M",
        "colab_type": "code",
        "colab": {}
      },
      "cell_type": "code",
      "source": [
        "from IPython.display import display\n",
        "def showX(X, rows=1):\n",
        "    assert X.shape[0] % rows == 0\n",
        "    int_X = (X*128+128).clip(0,255).astype('uint8')\n",
        "    # N*784 -> N*28*28 -> 28*N*28 -> 28 * 28N\n",
        "    int_X_reshape = int_X.reshape(rows, -1,28,28).swapaxes(1,2).reshape(28*rows,-1)\n",
        "    display(Image.fromarray(int_X_reshape))\n",
        "# 訓練資料， X 的前 20 筆\n",
        "showX(train_X[:10])\n",
        "print(train_y)"
      ],
      "execution_count": 0,
      "outputs": []
    },
    {
      "metadata": {
        "id": "fnciP38syalM",
        "colab_type": "code",
        "colab": {}
      },
      "cell_type": "code",
      "source": [
        "NZ = 32"
      ],
      "execution_count": 0,
      "outputs": []
    },
    {
      "metadata": {
        "id": "uX3Zqg36nWvt",
        "colab_type": "code",
        "colab": {}
      },
      "cell_type": "code",
      "source": [
        "from keras.models import Sequential\n",
        "from keras.layers import Conv2D, Activation, GlobalAveragePooling2D, Reshape\n",
        "\n",
        "netD = Sequential([\n",
        "    Conv2D(filters=32, kernel_size=3, strides=2, padding='same', activation='selu', input_shape=(28,28,1)),\n",
        "    Conv2D(filters=32, kernel_size=3, strides=2, padding='same', activation='selu'),\n",
        "    Conv2D(filters=32, kernel_size=3, strides=2, padding='valid', activation=\"selu\"),\n",
        "    Conv2D(filters=1, kernel_size=3, strides=3, padding='valid', activation=\"sigmoid\"),\n",
        "    Reshape((1,)),\n",
        "])"
      ],
      "execution_count": 0,
      "outputs": []
    },
    {
      "metadata": {
        "id": "mdRxhU0wpj9q",
        "colab_type": "code",
        "colab": {}
      },
      "cell_type": "code",
      "source": [
        "netD.summary()"
      ],
      "execution_count": 0,
      "outputs": []
    },
    {
      "metadata": {
        "id": "xYoktxlbp_cj",
        "colab_type": "code",
        "colab": {}
      },
      "cell_type": "code",
      "source": [
        "from keras.layers import Conv2DTranspose, Reshape\n",
        "netG = Sequential([\n",
        "    Reshape( (1,1,NZ), input_shape=(NZ,)),\n",
        "    Conv2DTranspose(filters=32, kernel_size=3, strides=2, padding='valid', activation='selu'),\n",
        "    Conv2DTranspose(filters=32, kernel_size=3, strides=2, padding='valid', activation='selu'),\n",
        "    Conv2DTranspose(filters=32, kernel_size=3, strides=2, padding='same', activation='selu'),\n",
        "    Conv2DTranspose(filters=1, kernel_size=3, strides=2, padding='same', activation='tanh')\n",
        "])"
      ],
      "execution_count": 0,
      "outputs": []
    },
    {
      "metadata": {
        "id": "76exHCVErjlK",
        "colab_type": "code",
        "colab": {}
      },
      "cell_type": "code",
      "source": [
        "netG.summary()"
      ],
      "execution_count": 0,
      "outputs": []
    },
    {
      "metadata": {
        "id": "IkctGI_YrsgL",
        "colab_type": "code",
        "colab": {}
      },
      "cell_type": "code",
      "source": [
        "from keras.models import Model\n",
        "GD_output = netD(netG.outputs)\n",
        "netGD = Model(inputs=netG.inputs, outputs=[GD_output])"
      ],
      "execution_count": 0,
      "outputs": []
    },
    {
      "metadata": {
        "id": "O94CnTYbr85u",
        "colab_type": "code",
        "colab": {}
      },
      "cell_type": "code",
      "source": [
        "netGD.summary()"
      ],
      "execution_count": 0,
      "outputs": []
    },
    {
      "metadata": {
        "id": "iEpRqBoCsbly",
        "colab_type": "code",
        "colab": {}
      },
      "cell_type": "code",
      "source": [
        "import numpy as np\n",
        "showX(netG.predict(np.random.normal( size=(10, NZ))))"
      ],
      "execution_count": 0,
      "outputs": []
    },
    {
      "metadata": {
        "id": "Cj7k9uNP6Wza",
        "colab_type": "code",
        "colab": {}
      },
      "cell_type": "code",
      "source": [
        "import keras.backend as K\n",
        "from keras.optimizers import RMSprop, SGD, Adam\n",
        "\n",
        "#loss_fn = lambda output, target : K.mean(K.binary_crossentropy(output, target))\n",
        "loss_fn = lambda output, target : -K.mean(K.log(output+1e-12)*target+K.log(1-output+1e-12)*(1-target))\n",
        "\n",
        "input_real = netD.inputs[0]\n",
        "input_z = netG.inputs[0]\n",
        "\n",
        "output_D_real = netD.outputs[0]\n",
        "output_D_fake = netGD.outputs[0]\n",
        "\n",
        "loss_D_real = loss_fn(output_D_real, K.ones_like(output_D_real))\n",
        "loss_D_fake = loss_fn(output_D_fake, K.zeros_like(output_D_fake))\n",
        "loss_D = (loss_D_real +loss_D_fake)/2\n",
        "\n",
        "training_updates = RMSprop(lr=1e-3).get_updates(netD.trainable_weights,[],loss_D)\n",
        "netD_train = K.function([input_z, input_real],[loss_D/2], training_updates)\n",
        "\n",
        "\n",
        "\n",
        "\n"
      ],
      "execution_count": 0,
      "outputs": []
    },
    {
      "metadata": {
        "id": "_TXY-fI1-Q3n",
        "colab_type": "code",
        "colab": {}
      },
      "cell_type": "code",
      "source": [
        "loss_G = loss_fn(output_D_fake, K.ones_like(output_D_fake))\n",
        "training_updates = RMSprop(lr=1e-3).get_updates(netG.trainable_weights,[], loss_G)\n",
        "netG_train = K.function([input_z], [loss_G], training_updates)"
      ],
      "execution_count": 0,
      "outputs": []
    },
    {
      "metadata": {
        "id": "UqRGXird-ld4",
        "colab_type": "code",
        "colab": {}
      },
      "cell_type": "code",
      "source": [
        "def minibatch(dataset, batchsize):\n",
        "  while True:\n",
        "    yield dataset[np.random.choice(dataset.shape[0], batchsize, replace=False)]\n"
      ],
      "execution_count": 0,
      "outputs": []
    },
    {
      "metadata": {
        "id": "ZoP2QSWwBaGK",
        "colab_type": "code",
        "colab": {}
      },
      "cell_type": "code",
      "source": [
        "train_batch = minibatch(train_X, 10)\n",
        "for i in range(5):\n",
        "  X = next(train_batch)\n",
        "  showX(X)"
      ],
      "execution_count": 0,
      "outputs": []
    },
    {
      "metadata": {
        "id": "84kwx8dJDaTE",
        "colab_type": "code",
        "colab": {}
      },
      "cell_type": "code",
      "source": [
        "import time\n",
        "from IPython.display import clear_output\n",
        "t0 = time.time()\n",
        "gen_iterations = 0\n",
        "errG = 0\n",
        "errG_sum = errD_sum = 0\n",
        "\n",
        "display_iters = 100\n",
        "batch_size = 32\n",
        "\n",
        "train_batch = minibatch(train_X, batch_size)\n",
        "fixed_Z = np.random.normal(scale=0.5, size=(100, NZ))\n",
        "while gen_iterations < 10000: \n",
        "    X = next(train_batch)\n",
        "    Z = np.random.normal(size=(batch_size, NZ))\n",
        "    errD, = netD_train([Z, X])\n",
        "    errD_sum +=errD\n",
        "    \n",
        "    #Z = np.random.normal(size=(batch_size, NZ))\n",
        "    errG, = netG_train([Z])\n",
        "    errG_sum += errG    \n",
        "    gen_iterations+=1\n",
        "    \n",
        "    if gen_iterations%display_iters==0:\n",
        "        clear_output(True)\n",
        "        print('[%d] Loss_D: %f Loss_G: %f'\n",
        "        % (gen_iterations, errD_sum/display_iters, errG_sum/display_iters), time.time()-t0)\n",
        "        fakeX = netG.predict(fixed_Z)\n",
        "        showX(fakeX, 10)\n",
        "        errG_sum = errD_sum = 0"
      ],
      "execution_count": 0,
      "outputs": []
    }
  ]
}